{
  "nbformat": 4,
  "nbformat_minor": 0,
  "metadata": {
    "colab": {
      "provenance": [],
      "authorship_tag": "ABX9TyMAGklTTJGPahkfWw6QA272",
      "include_colab_link": true
    },
    "kernelspec": {
      "name": "python3",
      "display_name": "Python 3"
    },
    "language_info": {
      "name": "python"
    }
  },
  "cells": [
    {
      "cell_type": "markdown",
      "metadata": {
        "id": "view-in-github",
        "colab_type": "text"
      },
      "source": [
        "<a href=\"https://colab.research.google.com/github/fishee82oo/nfs-oil-price-prediction/blob/main/GDELT_Model_Training.ipynb\" target=\"_parent\"><img src=\"https://colab.research.google.com/assets/colab-badge.svg\" alt=\"Open In Colab\"/></a>"
      ]
    },
    {
      "cell_type": "code",
      "execution_count": 24,
      "metadata": {
        "id": "gXr_gIiBYl3U"
      },
      "outputs": [],
      "source": [
        "!pip install -q google-cloud-storage pyarrow pycountry tqdm"
      ]
    },
    {
      "cell_type": "code",
      "source": [
        "import importlib.util, sys, os, io, json, gzip\n",
        "from datetime import datetime, timedelta\n",
        "import pandas as pd, numpy as np\n",
        "from tqdm import tqdm"
      ],
      "metadata": {
        "id": "C8_bX21FYp5P"
      },
      "execution_count": 25,
      "outputs": []
    },
    {
      "cell_type": "code",
      "source": [],
      "metadata": {
        "id": "jnDeBpicFj0f"
      },
      "execution_count": 25,
      "outputs": []
    },
    {
      "cell_type": "code",
      "source": [
        "try:\n",
        "    from google.colab import auth\n",
        "    auth.authenticate_user()\n",
        "except Exception:\n",
        "    pass\n",
        "import google.auth\n",
        "from google.cloud import storage\n",
        "credentials, default_project = google.auth.default()\n",
        "client = storage.Client(project=default_project, credentials=credentials)"
      ],
      "metadata": {
        "id": "48mIZtkIYrIa"
      },
      "execution_count": 26,
      "outputs": []
    },
    {
      "cell_type": "markdown",
      "source": [
        "# Import data from GCS"
      ],
      "metadata": {
        "id": "2uPZ2jLAZIk8"
      }
    },
    {
      "cell_type": "code",
      "source": [
        "spec = importlib.util.spec_from_file_location(\"gdelt_module\", \"/mnt/data/gdelt_data_engineering_clean.ipynb\")\n",
        "gdelt_module = None\n",
        "if spec and spec.loader:\n",
        "    gm = importlib.util.module_from_spec(spec)\n",
        "    spec.loader.exec_module(gm)\n",
        "    gdelt_module = gm\n",
        "if gdelt_module and hasattr(gdelt_module, \"GCS_BUCKET_NAME\"):\n",
        "    BUCKET_NAME = getattr(gdelt_module, \"GCS_BUCKET_NAME\")\n",
        "else:\n",
        "    BUCKET_NAME = os.environ.get(\"GCS_BUCKET_NAME\", \"gdelt_raw_3_years\")\n",
        "if gdelt_module and hasattr(gdelt_module, \"GCS_PROCESSED_PATH\"):\n",
        "    PROCESSED_PREFIX = getattr(gdelt_module, \"GCS_PROCESSED_PATH\")\n",
        "else:\n",
        "    PROCESSED_PREFIX = os.environ.get(\"GCS_PROCESSED_PATH\", \"processed_data/\")\n",
        "bucket = client.bucket(BUCKET_NAME)\n",
        "blobs = list(client.list_blobs(BUCKET_NAME, prefix=PROCESSED_PREFIX))\n",
        "final_blobs = [b for b in blobs if b.name.startswith(f\"{PROCESSED_PREFIX}final_aligned_data_\") and b.name.endswith(\".json.gz\")]\n",
        "final_blobs_sorted = sorted(final_blobs, key=lambda b: b.name, reverse=True)\n",
        "if len(final_blobs_sorted)==0:\n",
        "    raise SystemExit(\"No final_aligned_data_*.json.gz found under the processed prefix\")\n",
        "latest_blob = final_blobs_sorted[0]\n",
        "local_download_path = \"/tmp/latest_final_aligned_data.json.gz\"\n",
        "with open(local_download_path, \"wb\") as f:\n",
        "    f.write(latest_blob.download_as_bytes())"
      ],
      "metadata": {
        "id": "XaZWM8XTYs7j"
      },
      "execution_count": 27,
      "outputs": []
    },
    {
      "cell_type": "markdown",
      "source": [
        "# Forming Graph"
      ],
      "metadata": {
        "id": "wyfaKsH_ZPWj"
      }
    },
    {
      "cell_type": "code",
      "source": [
        "import os\n",
        "\n",
        "if os.path.exists(local_download_path):\n",
        "    file_size = os.path.getsize(local_download_path) / (1024*1024)\n",
        "    print(f\"File downloaded: {local_download_path}\")\n",
        "    print(f\"Size: {file_size:.2f} MB\")\n",
        "\n",
        "else:\n",
        "    print(\"File NOT found locally\")\n",
        "\n",
        "print(f\"Downloaded from GCS: {latest_blob.name}\")\n",
        "print(f\"Bucket: {BUCKET_NAME}\")\n",
        "print(f\"Last modified: {latest_blob.updated}\")\n",
        "\n",
        "with gzip.open(local_download_path, \"rt\", encoding=\"utf-8\") as f:\n",
        "    sample = f.read(500)\n",
        "    print(f\"Data preview:\\n{sample[:200]}...\")"
      ],
      "metadata": {
        "colab": {
          "base_uri": "https://localhost:8080/"
        },
        "id": "L4tTv_JeHPeD",
        "outputId": "28089d25-6155-42f7-cdd1-12cf1899d45d"
      },
      "execution_count": 28,
      "outputs": [
        {
          "output_type": "stream",
          "name": "stdout",
          "text": [
            "File downloaded: /tmp/latest_final_aligned_data.json.gz\n",
            "Size: 2.37 MB\n",
            "Downloaded from GCS: processed_data/final_aligned_data_20250908.json.gz\n",
            "Bucket: gdelt_raw_3_years\n",
            "Last modified: 2025-09-08 01:30:57.993000+00:00\n",
            "Data preview:\n",
            "[{\"date\": \"20220825\", \"country\": \"US\", \"event_count\": 2301, \"avg_sentiment\": -0.023938528465884453, \"unique_sources\": 728, \"wti_price\": 93.33, \"brent_price\": 98.81, \"theme_energy\": 45, \"theme_conflict...\n"
          ]
        }
      ]
    },
    {
      "cell_type": "code",
      "source": [
        "with gzip.open(local_download_path, \"rt\", encoding=\"utf-8\") as f:\n",
        "    raw = f.read()\n",
        "records = json.loads(raw)\n",
        "df = pd.DataFrame.from_records(records)\n",
        "df[\"date\"] = pd.to_datetime(df[\"date\"])\n",
        "df = df.sort_values(\"date\").reset_index(drop=True)\n",
        "df.shape\n",
        "\n",
        "for column in df.columns:\n",
        "    print(f\"Column: {column}\")\n",
        "    print(df[column])\n",
        "    print(\"-\" * 30)"
      ],
      "metadata": {
        "id": "AseuuqqNYuqr",
        "colab": {
          "base_uri": "https://localhost:8080/"
        },
        "outputId": "cabc4f5e-a4c8-4290-f76e-e09ef4fa6175"
      },
      "execution_count": 29,
      "outputs": [
        {
          "output_type": "stream",
          "name": "stdout",
          "text": [
            "Column: date\n",
            "0        2022-08-25\n",
            "1        2022-08-25\n",
            "2        2022-08-25\n",
            "3        2022-08-25\n",
            "4        2022-08-25\n",
            "            ...    \n",
            "143396   2025-08-25\n",
            "143397   2025-08-25\n",
            "143398   2025-08-25\n",
            "143399   2025-08-25\n",
            "143400   2025-08-25\n",
            "Name: date, Length: 143401, dtype: datetime64[ns]\n",
            "------------------------------\n",
            "Column: country\n",
            "0         US\n",
            "1         LU\n",
            "2         NU\n",
            "3         ID\n",
            "4         DO\n",
            "          ..\n",
            "143396    MV\n",
            "143397    LY\n",
            "143398    MU\n",
            "143399    BC\n",
            "143400    GI\n",
            "Name: country, Length: 143401, dtype: object\n",
            "------------------------------\n",
            "Column: event_count\n",
            "0         2301\n",
            "1            7\n",
            "2            2\n",
            "3           35\n",
            "4            1\n",
            "          ... \n",
            "143396       6\n",
            "143397       8\n",
            "143398       8\n",
            "143399       3\n",
            "143400       1\n",
            "Name: event_count, Length: 143401, dtype: int64\n",
            "------------------------------\n",
            "Column: avg_sentiment\n",
            "0        -0.023939\n",
            "1        -0.039387\n",
            "2        -0.069690\n",
            "3        -0.038237\n",
            "4         0.000000\n",
            "            ...   \n",
            "143396   -0.031522\n",
            "143397   -0.022810\n",
            "143398   -0.017373\n",
            "143399    0.000000\n",
            "143400    0.000000\n",
            "Name: avg_sentiment, Length: 143401, dtype: float64\n",
            "------------------------------\n",
            "Column: unique_sources\n",
            "0         728\n",
            "1           7\n",
            "2           2\n",
            "3          27\n",
            "4           1\n",
            "         ... \n",
            "143396      5\n",
            "143397      5\n",
            "143398      5\n",
            "143399      2\n",
            "143400      1\n",
            "Name: unique_sources, Length: 143401, dtype: int64\n",
            "------------------------------\n",
            "Column: wti_price\n",
            "0         93.33\n",
            "1         93.33\n",
            "2         93.33\n",
            "3         93.33\n",
            "4         93.33\n",
            "          ...  \n",
            "143396    65.18\n",
            "143397    65.18\n",
            "143398    65.18\n",
            "143399    65.18\n",
            "143400    65.18\n",
            "Name: wti_price, Length: 143401, dtype: float64\n",
            "------------------------------\n",
            "Column: brent_price\n",
            "0         98.81\n",
            "1         98.81\n",
            "2         98.81\n",
            "3         98.81\n",
            "4         98.81\n",
            "          ...  \n",
            "143396      NaN\n",
            "143397      NaN\n",
            "143398      NaN\n",
            "143399      NaN\n",
            "143400      NaN\n",
            "Name: brent_price, Length: 143401, dtype: float64\n",
            "------------------------------\n",
            "Column: theme_energy\n",
            "0         45\n",
            "1          0\n",
            "2          0\n",
            "3          3\n",
            "4          0\n",
            "          ..\n",
            "143396     0\n",
            "143397     2\n",
            "143398     0\n",
            "143399     0\n",
            "143400     0\n",
            "Name: theme_energy, Length: 143401, dtype: int64\n",
            "------------------------------\n",
            "Column: theme_conflict\n",
            "0         321\n",
            "1           3\n",
            "2           4\n",
            "3          13\n",
            "4           3\n",
            "         ... \n",
            "143396      0\n",
            "143397      1\n",
            "143398      1\n",
            "143399      0\n",
            "143400      0\n",
            "Name: theme_conflict, Length: 143401, dtype: int64\n",
            "------------------------------\n",
            "Column: theme_sanctions\n",
            "0         1\n",
            "1         0\n",
            "2         0\n",
            "3         0\n",
            "4         0\n",
            "         ..\n",
            "143396    0\n",
            "143397    0\n",
            "143398    0\n",
            "143399    0\n",
            "143400    0\n",
            "Name: theme_sanctions, Length: 143401, dtype: int64\n",
            "------------------------------\n",
            "Column: theme_trade\n",
            "0         9\n",
            "1         0\n",
            "2         0\n",
            "3         0\n",
            "4         0\n",
            "         ..\n",
            "143396    1\n",
            "143397    0\n",
            "143398    1\n",
            "143399    0\n",
            "143400    0\n",
            "Name: theme_trade, Length: 143401, dtype: int64\n",
            "------------------------------\n",
            "Column: theme_economy\n",
            "0         316\n",
            "1           0\n",
            "2           0\n",
            "3           6\n",
            "4           0\n",
            "         ... \n",
            "143396      3\n",
            "143397      1\n",
            "143398      2\n",
            "143399      0\n",
            "143400      0\n",
            "Name: theme_economy, Length: 143401, dtype: int64\n",
            "------------------------------\n",
            "Column: theme_policy\n",
            "0         625\n",
            "1           3\n",
            "2           0\n",
            "3           6\n",
            "4           0\n",
            "         ... \n",
            "143396      1\n",
            "143397      1\n",
            "143398      0\n",
            "143399      0\n",
            "143400      0\n",
            "Name: theme_policy, Length: 143401, dtype: int64\n",
            "------------------------------\n"
          ]
        }
      ]
    },
    {
      "cell_type": "code",
      "source": [
        "import pycountry\n",
        "def to_iso3(name):\n",
        "    try:\n",
        "        c = pycountry.countries.lookup(name)\n",
        "        return c.alpha_3\n",
        "    except Exception:\n",
        "        s = str(name).upper()\n",
        "        s2 = \"\".join([c for c in s if c.isalpha() or c==\" \"]).strip().replace(\" \", \"_\")\n",
        "        return s2\n",
        "df[\"country_iso3\"] = df[\"country\"].fillna(\"UNKNOWN\").apply(to_iso3)\n",
        "df[\"node_id\"] = df[\"country_iso3\"].astype(str) + \"_\" + df[\"date\"].dt.strftime(\"%Y%m%d\")\n",
        "df.shape"
      ],
      "metadata": {
        "id": "DYBXmOXTYx7t",
        "colab": {
          "base_uri": "https://localhost:8080/"
        },
        "outputId": "5d5e9bd1-c29c-4e3a-aff2-0c2f3688186a"
      },
      "execution_count": 30,
      "outputs": [
        {
          "output_type": "execute_result",
          "data": {
            "text/plain": [
              "(143401, 15)"
            ]
          },
          "metadata": {},
          "execution_count": 30
        }
      ]
    },
    {
      "cell_type": "code",
      "source": [
        "price_by_date = df[[\"date\",\"wti_price\"]].drop_duplicates().set_index(\"date\").sort_index()\n",
        "price_by_date[\"wti_price\"] = pd.to_numeric(price_by_date[\"wti_price\"], errors=\"coerce\")\n",
        "price_by_date = price_by_date.sort_index()\n",
        "price_by_date[\"wti_price_next\"] = price_by_date[\"wti_price\"].shift(-1)\n",
        "price_by_date[\"wti_delta_next\"] = price_by_date[\"wti_price_next\"] - price_by_date[\"wti_price\"]\n",
        "price_by_date[\"wti_ret_next\"] = price_by_date[\"wti_delta_next\"] / price_by_date[\"wti_price\"]\n",
        "price_map = price_by_date.to_dict(orient=\"index\")\n",
        "def attach_targets(row):\n",
        "    pdx = row[\"date\"]\n",
        "    v = price_map.get(pdx)\n",
        "    if v is None:\n",
        "        return pd.Series([np.nan,np.nan])\n",
        "    return pd.Series([v.get(\"wti_delta_next\"), v.get(\"wti_ret_next\")])\n",
        "df[[\"wti_delta_next\",\"wti_ret_next\"]] = df.apply(attach_targets, axis=1)\n",
        "\n",
        "for column in df.columns:\n",
        "    print(f\"Column: {column}\")\n",
        "    print(df[column])\n",
        "    print(\"-\" * 30)"
      ],
      "metadata": {
        "id": "qFVQHJNdYyka",
        "colab": {
          "base_uri": "https://localhost:8080/"
        },
        "outputId": "09a19967-78f9-4d6b-c6c1-9287df769384"
      },
      "execution_count": 31,
      "outputs": [
        {
          "output_type": "stream",
          "name": "stdout",
          "text": [
            "Column: date\n",
            "0        2022-08-25\n",
            "1        2022-08-25\n",
            "2        2022-08-25\n",
            "3        2022-08-25\n",
            "4        2022-08-25\n",
            "            ...    \n",
            "143396   2025-08-25\n",
            "143397   2025-08-25\n",
            "143398   2025-08-25\n",
            "143399   2025-08-25\n",
            "143400   2025-08-25\n",
            "Name: date, Length: 143401, dtype: datetime64[ns]\n",
            "------------------------------\n",
            "Column: country\n",
            "0         US\n",
            "1         LU\n",
            "2         NU\n",
            "3         ID\n",
            "4         DO\n",
            "          ..\n",
            "143396    MV\n",
            "143397    LY\n",
            "143398    MU\n",
            "143399    BC\n",
            "143400    GI\n",
            "Name: country, Length: 143401, dtype: object\n",
            "------------------------------\n",
            "Column: event_count\n",
            "0         2301\n",
            "1            7\n",
            "2            2\n",
            "3           35\n",
            "4            1\n",
            "          ... \n",
            "143396       6\n",
            "143397       8\n",
            "143398       8\n",
            "143399       3\n",
            "143400       1\n",
            "Name: event_count, Length: 143401, dtype: int64\n",
            "------------------------------\n",
            "Column: avg_sentiment\n",
            "0        -0.023939\n",
            "1        -0.039387\n",
            "2        -0.069690\n",
            "3        -0.038237\n",
            "4         0.000000\n",
            "            ...   \n",
            "143396   -0.031522\n",
            "143397   -0.022810\n",
            "143398   -0.017373\n",
            "143399    0.000000\n",
            "143400    0.000000\n",
            "Name: avg_sentiment, Length: 143401, dtype: float64\n",
            "------------------------------\n",
            "Column: unique_sources\n",
            "0         728\n",
            "1           7\n",
            "2           2\n",
            "3          27\n",
            "4           1\n",
            "         ... \n",
            "143396      5\n",
            "143397      5\n",
            "143398      5\n",
            "143399      2\n",
            "143400      1\n",
            "Name: unique_sources, Length: 143401, dtype: int64\n",
            "------------------------------\n",
            "Column: wti_price\n",
            "0         93.33\n",
            "1         93.33\n",
            "2         93.33\n",
            "3         93.33\n",
            "4         93.33\n",
            "          ...  \n",
            "143396    65.18\n",
            "143397    65.18\n",
            "143398    65.18\n",
            "143399    65.18\n",
            "143400    65.18\n",
            "Name: wti_price, Length: 143401, dtype: float64\n",
            "------------------------------\n",
            "Column: brent_price\n",
            "0         98.81\n",
            "1         98.81\n",
            "2         98.81\n",
            "3         98.81\n",
            "4         98.81\n",
            "          ...  \n",
            "143396      NaN\n",
            "143397      NaN\n",
            "143398      NaN\n",
            "143399      NaN\n",
            "143400      NaN\n",
            "Name: brent_price, Length: 143401, dtype: float64\n",
            "------------------------------\n",
            "Column: theme_energy\n",
            "0         45\n",
            "1          0\n",
            "2          0\n",
            "3          3\n",
            "4          0\n",
            "          ..\n",
            "143396     0\n",
            "143397     2\n",
            "143398     0\n",
            "143399     0\n",
            "143400     0\n",
            "Name: theme_energy, Length: 143401, dtype: int64\n",
            "------------------------------\n",
            "Column: theme_conflict\n",
            "0         321\n",
            "1           3\n",
            "2           4\n",
            "3          13\n",
            "4           3\n",
            "         ... \n",
            "143396      0\n",
            "143397      1\n",
            "143398      1\n",
            "143399      0\n",
            "143400      0\n",
            "Name: theme_conflict, Length: 143401, dtype: int64\n",
            "------------------------------\n",
            "Column: theme_sanctions\n",
            "0         1\n",
            "1         0\n",
            "2         0\n",
            "3         0\n",
            "4         0\n",
            "         ..\n",
            "143396    0\n",
            "143397    0\n",
            "143398    0\n",
            "143399    0\n",
            "143400    0\n",
            "Name: theme_sanctions, Length: 143401, dtype: int64\n",
            "------------------------------\n",
            "Column: theme_trade\n",
            "0         9\n",
            "1         0\n",
            "2         0\n",
            "3         0\n",
            "4         0\n",
            "         ..\n",
            "143396    1\n",
            "143397    0\n",
            "143398    1\n",
            "143399    0\n",
            "143400    0\n",
            "Name: theme_trade, Length: 143401, dtype: int64\n",
            "------------------------------\n",
            "Column: theme_economy\n",
            "0         316\n",
            "1           0\n",
            "2           0\n",
            "3           6\n",
            "4           0\n",
            "         ... \n",
            "143396      3\n",
            "143397      1\n",
            "143398      2\n",
            "143399      0\n",
            "143400      0\n",
            "Name: theme_economy, Length: 143401, dtype: int64\n",
            "------------------------------\n",
            "Column: theme_policy\n",
            "0         625\n",
            "1           3\n",
            "2           0\n",
            "3           6\n",
            "4           0\n",
            "         ... \n",
            "143396      1\n",
            "143397      1\n",
            "143398      0\n",
            "143399      0\n",
            "143400      0\n",
            "Name: theme_policy, Length: 143401, dtype: int64\n",
            "------------------------------\n",
            "Column: country_iso3\n",
            "0         USA\n",
            "1         LUX\n",
            "2         NIU\n",
            "3         IDN\n",
            "4         DOM\n",
            "         ... \n",
            "143396    MDV\n",
            "143397    LBY\n",
            "143398    MUS\n",
            "143399     BC\n",
            "143400    GIB\n",
            "Name: country_iso3, Length: 143401, dtype: object\n",
            "------------------------------\n",
            "Column: node_id\n",
            "0         USA_20220825\n",
            "1         LUX_20220825\n",
            "2         NIU_20220825\n",
            "3         IDN_20220825\n",
            "4         DOM_20220825\n",
            "              ...     \n",
            "143396    MDV_20250825\n",
            "143397    LBY_20250825\n",
            "143398    MUS_20250825\n",
            "143399     BC_20250825\n",
            "143400    GIB_20250825\n",
            "Name: node_id, Length: 143401, dtype: object\n",
            "------------------------------\n",
            "Column: wti_delta_next\n",
            "0         0.3\n",
            "1         0.3\n",
            "2         0.3\n",
            "3         0.3\n",
            "4         0.3\n",
            "         ... \n",
            "143396    NaN\n",
            "143397    NaN\n",
            "143398    NaN\n",
            "143399    NaN\n",
            "143400    NaN\n",
            "Name: wti_delta_next, Length: 143401, dtype: float64\n",
            "------------------------------\n",
            "Column: wti_ret_next\n",
            "0         0.003214\n",
            "1         0.003214\n",
            "2         0.003214\n",
            "3         0.003214\n",
            "4         0.003214\n",
            "            ...   \n",
            "143396         NaN\n",
            "143397         NaN\n",
            "143398         NaN\n",
            "143399         NaN\n",
            "143400         NaN\n",
            "Name: wti_ret_next, Length: 143401, dtype: float64\n",
            "------------------------------\n"
          ]
        }
      ]
    },
    {
      "cell_type": "code",
      "source": [
        "feature_cols = [c for c in df.columns if c not in [\"country\",\"date\",\"node_id\",\"country_iso3\",\"wti_delta_next\",\"wti_ret_next\"]]\n",
        "feature_cols = [c for c in feature_cols if df[c].dtype != \"object\" or c.startswith(\"theme_\")]\n",
        "node_features = df[[\"node_id\",\"country\",\"country_iso3\",\"date\",\"wti_price\",\"brent_price\",\"wti_delta_next\",\"wti_ret_next\"] + [c for c in df.columns if c in feature_cols]]\n",
        "node_features = node_features.fillna(0)"
      ],
      "metadata": {
        "id": "cZL1fJFZY0Li"
      },
      "execution_count": 32,
      "outputs": []
    },
    {
      "cell_type": "code",
      "source": [
        "opec_members = [\"Venezuela\",\"Saudi Arabia\",\"Iran\",\"Iraq\",\"Kuwait\",\"UAE\",\"Qatar\",\"Algeria\",\"Angola\",\"Libya\",\"Nigeria\",\"Ecuador\",\"Gabon\",\"Republic of the Congo\",\"Equatorial Guinea\"]\n",
        "iso_map = {}\n",
        "for name in opec_members:\n",
        "    try:\n",
        "        iso_map[name] = pycountry.countries.lookup(name).alpha_3\n",
        "    except Exception:\n",
        "        iso_map[name] = name.upper().replace(\" \",\"_\")\n",
        "opec_iso = list(iso_map.values())\n",
        "from itertools import combinations\n",
        "static_edges = []\n",
        "for a,b in combinations(opec_iso,2):\n",
        "    static_edges.append({\"source\":a,\"target\":b,\"edge_type\":\"opec_member\"})\n",
        "static_edges_df = pd.DataFrame(static_edges)"
      ],
      "metadata": {
        "id": "mN4YlVMFY2Hv"
      },
      "execution_count": 33,
      "outputs": []
    },
    {
      "cell_type": "code",
      "source": [
        "dyn_edges_df = pd.DataFrame(columns=[\"source\",\"target\",\"edge_type\",\"timestamp\",\"date\"])\n",
        "potential_actor_cols = [c for c in df.columns if \"actor\" in c.lower() or \"actor1\" in c.lower() or \"actor2\" in c.lower()]\n",
        "if len(potential_actor_cols)>0:\n",
        "    actors = []\n",
        "    for idx,row in df.iterrows():\n",
        "        for k in potential_actor_cols:\n",
        "            v = row.get(k)\n",
        "        if row.get(\"actor1\") and row.get(\"actor2\"):\n",
        "            s = str(row.get(\"actor1\"))\n",
        "            t = str(row.get(\"actor2\"))\n",
        "            dyn_edges_df.loc[len(dyn_edges_df)] = [s,t,\"gdelt_event\",row.get(\"date\"),row.get(\"date\")]\n"
      ],
      "metadata": {
        "id": "ccoFJtmnY4gH"
      },
      "execution_count": 34,
      "outputs": []
    },
    {
      "cell_type": "code",
      "source": [
        "df = df.loc[:, ~df.columns.duplicated()]\n",
        "\n",
        "feature_cols = [c for c in df.columns if c not in [\"country\",\"date\",\"node_id\",\"country_iso3\",\"wti_delta_next\",\"wti_ret_next\",\"wti_price\",\"brent_price\"]]\n",
        "feature_cols = [c for c in feature_cols if df[c].dtype != \"object\" or c.startswith(\"theme_\")]\n",
        "node_features = df[[\"node_id\",\"country\",\"country_iso3\",\"date\",\"wti_price\",\"brent_price\",\"wti_delta_next\",\"wti_ret_next\"] + [c for c in df.columns if c in feature_cols]]\n",
        "node_features = node_features.loc[:, ~node_features.columns.duplicated()]\n",
        "node_features = node_features.fillna(0)\n",
        "\n",
        "out_dir_local = \"/tmp/graph_export\"\n",
        "os.makedirs(out_dir_local, exist_ok=True)\n",
        "nodes_out = os.path.join(out_dir_local, \"nodes.parquet\")\n",
        "static_edges_out = os.path.join(out_dir_local, \"edges_static.parquet\")\n",
        "dyn_edges_out = os.path.join(out_dir_local, \"edges_dynamic.parquet\")\n",
        "node_features.to_parquet(nodes_out, index=False)\n",
        "static_edges_df.to_parquet(static_edges_out, index=False)\n",
        "dyn_edges_df.to_parquet(dyn_edges_out, index=False)"
      ],
      "metadata": {
        "id": "HYnQXhhiY4SS"
      },
      "execution_count": 35,
      "outputs": []
    },
    {
      "cell_type": "code",
      "source": [
        "gcs_prefix = PROCESSED_PREFIX + \"graph_dataset/\"\n",
        "for p in [nodes_out, static_edges_out, dyn_edges_out]:\n",
        "    bn = os.path.basename(p)\n",
        "    blob = bucket.blob(f\"{gcs_prefix}{bn}\")\n",
        "    with open(p,\"rb\") as f:\n",
        "        blob.upload_from_file(f)\n",
        "meta = {\"nodes\":nodes_out,\"edges_static\":static_edges_out,\"edges_dynamic\":dyn_edges_out,\"uploaded_at\":datetime.utcnow().isoformat()}\n",
        "meta_blob = bucket.blob(f\"{gcs_prefix}metadata.json\")\n",
        "meta_blob.upload_from_string(json.dumps(meta), content_type=\"application/json\")"
      ],
      "metadata": {
        "id": "W4YQp6wWY4Ee",
        "colab": {
          "base_uri": "https://localhost:8080/"
        },
        "outputId": "ed73da5e-07ba-4f6a-fe51-6c116a199b6c"
      },
      "execution_count": 36,
      "outputs": [
        {
          "output_type": "stream",
          "name": "stderr",
          "text": [
            "/tmp/ipython-input-3841086253.py:7: DeprecationWarning: datetime.datetime.utcnow() is deprecated and scheduled for removal in a future version. Use timezone-aware objects to represent datetimes in UTC: datetime.datetime.now(datetime.UTC).\n",
            "  meta = {\"nodes\":nodes_out,\"edges_static\":static_edges_out,\"edges_dynamic\":dyn_edges_out,\"uploaded_at\":datetime.utcnow().isoformat()}\n"
          ]
        }
      ]
    },
    {
      "cell_type": "code",
      "source": [
        "unique_dates = sorted(node_features[\"date\"].dt.date.unique())\n",
        "for d in tqdm(unique_dates):\n",
        "    sub = node_features[node_features[\"date\"].dt.date==d].copy()\n",
        "    if sub.shape[0]==0:\n",
        "        continue\n",
        "    fn = f\"node_features_{d.strftime('%Y%m%d')}.parquet\"\n",
        "    localp = os.path.join(out_dir_local,fn)\n",
        "    sub.to_parquet(localp, index=False)\n",
        "    blob = bucket.blob(f\"{gcs_prefix}{fn}\")\n",
        "    with open(localp,\"rb\") as f:\n",
        "        blob.upload_from_file(f)"
      ],
      "metadata": {
        "id": "J9RNhXaqY-7y",
        "colab": {
          "base_uri": "https://localhost:8080/"
        },
        "outputId": "9fd7d551-dc09-47df-e2de-5fcac8a308d5"
      },
      "execution_count": 37,
      "outputs": [
        {
          "output_type": "stream",
          "name": "stderr",
          "text": [
            "100%|██████████| 733/733 [11:02<00:00,  1.11it/s]\n"
          ]
        }
      ]
    },
    {
      "cell_type": "code",
      "source": [
        "print(\"done\")\n",
        "print(\"bucket\",BUCKET_NAME)\n",
        "print(\"processed prefix\",PROCESSED_PREFIX)\n",
        "print(\"latest aligned blob\", latest_blob.name)\n",
        "print(\"graph files uploaded to\", PROCESSED_PREFIX + \"graph_dataset/\")"
      ],
      "metadata": {
        "id": "ruFEh4nmY-5c",
        "colab": {
          "base_uri": "https://localhost:8080/"
        },
        "outputId": "2a9c2050-2e4b-4c80-8e64-9ae7841a9ab5"
      },
      "execution_count": 38,
      "outputs": [
        {
          "output_type": "stream",
          "name": "stdout",
          "text": [
            "done\n",
            "bucket gdelt_raw_3_years\n",
            "processed prefix processed_data/\n",
            "latest aligned blob processed_data/final_aligned_data_20250908.json.gz\n",
            "graph files uploaded to processed_data/graph_dataset/\n"
          ]
        }
      ]
    }
  ]
}