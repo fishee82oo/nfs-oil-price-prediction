{
  "nbformat": 4,
  "nbformat_minor": 0,
  "metadata": {
    "colab": {
      "provenance": [],
      "authorship_tag": "ABX9TyNZMjBZyZSjbutpFlUS3Vpl",
      "include_colab_link": true
    },
    "kernelspec": {
      "name": "python3",
      "display_name": "Python 3"
    },
    "language_info": {
      "name": "python"
    }
  },
  "cells": [
    {
      "cell_type": "markdown",
      "metadata": {
        "id": "view-in-github",
        "colab_type": "text"
      },
      "source": [
        "<a href=\"https://colab.research.google.com/github/fishee82oo/nfs-oil-price-prediction/blob/training/GDELT_Model_Training.ipynb\" target=\"_parent\"><img src=\"https://colab.research.google.com/assets/colab-badge.svg\" alt=\"Open In Colab\"/></a>"
      ]
    },
    {
      "cell_type": "code",
      "execution_count": 1,
      "metadata": {
        "id": "gXr_gIiBYl3U",
        "colab": {
          "base_uri": "https://localhost:8080/"
        },
        "outputId": "3da5bc55-2abe-4853-ad30-4d66174c7c93"
      },
      "outputs": [
        {
          "output_type": "stream",
          "name": "stdout",
          "text": [
            "\u001b[?25l   \u001b[90m━━━━━━━━━━━━━━━━━━━━━━━━━━━━━━━━━━━━━━━━\u001b[0m \u001b[32m0.0/6.3 MB\u001b[0m \u001b[31m?\u001b[0m eta \u001b[36m-:--:--\u001b[0m\r\u001b[2K   \u001b[91m━━\u001b[0m\u001b[90m╺\u001b[0m\u001b[90m━━━━━━━━━━━━━━━━━━━━━━━━━━━━━━━━━━━━━\u001b[0m \u001b[32m0.3/6.3 MB\u001b[0m \u001b[31m9.2 MB/s\u001b[0m eta \u001b[36m0:00:01\u001b[0m\r\u001b[2K   \u001b[91m━━━━━━━━━━━━━━━━━\u001b[0m\u001b[91m╸\u001b[0m\u001b[90m━━━━━━━━━━━━━━━━━━━━━━\u001b[0m \u001b[32m2.8/6.3 MB\u001b[0m \u001b[31m36.5 MB/s\u001b[0m eta \u001b[36m0:00:01\u001b[0m\r\u001b[2K   \u001b[91m━━━━━━━━━━━━━━━━━━━━━━━━━━━━━━━━━━━━━━\u001b[0m\u001b[91m╸\u001b[0m\u001b[90m━\u001b[0m \u001b[32m6.1/6.3 MB\u001b[0m \u001b[31m55.3 MB/s\u001b[0m eta \u001b[36m0:00:01\u001b[0m\r\u001b[2K   \u001b[91m━━━━━━━━━━━━━━━━━━━━━━━━━━━━━━━━━━━━━━━\u001b[0m\u001b[91m╸\u001b[0m \u001b[32m6.3/6.3 MB\u001b[0m \u001b[31m42.5 MB/s\u001b[0m eta \u001b[36m0:00:01\u001b[0m\r\u001b[2K   \u001b[90m━━━━━━━━━━━━━━━━━━━━━━━━━━━━━━━━━━━━━━━━\u001b[0m \u001b[32m6.3/6.3 MB\u001b[0m \u001b[31m30.1 MB/s\u001b[0m eta \u001b[36m0:00:00\u001b[0m\n",
            "\u001b[?25h"
          ]
        }
      ],
      "source": [
        "!pip install -q google-cloud-storage pyarrow pycountry tqdm"
      ]
    },
    {
      "cell_type": "code",
      "source": [
        "import importlib.util, sys, os, io, json, gzip\n",
        "from datetime import datetime, timedelta\n",
        "import pandas as pd, numpy as np\n",
        "from tqdm import tqdm"
      ],
      "metadata": {
        "id": "C8_bX21FYp5P"
      },
      "execution_count": 2,
      "outputs": []
    },
    {
      "cell_type": "code",
      "source": [],
      "metadata": {
        "id": "jnDeBpicFj0f"
      },
      "execution_count": null,
      "outputs": []
    },
    {
      "cell_type": "code",
      "source": [
        "try:\n",
        "    from google.colab import auth\n",
        "    auth.authenticate_user()\n",
        "except Exception:\n",
        "    pass\n",
        "import google.auth\n",
        "from google.cloud import storage\n",
        "credentials, default_project = google.auth.default()\n",
        "client = storage.Client(project=default_project, credentials=credentials)"
      ],
      "metadata": {
        "id": "48mIZtkIYrIa"
      },
      "execution_count": 3,
      "outputs": []
    },
    {
      "cell_type": "markdown",
      "source": [
        "# Import data from GCS"
      ],
      "metadata": {
        "id": "2uPZ2jLAZIk8"
      }
    },
    {
      "cell_type": "code",
      "source": [
        "spec = importlib.util.spec_from_file_location(\"gdelt_module\", \"/mnt/data/gdelt_data_engineering_clean.ipynb\")\n",
        "gdelt_module = None\n",
        "if spec and spec.loader:\n",
        "    gm = importlib.util.module_from_spec(spec)\n",
        "    spec.loader.exec_module(gm)\n",
        "    gdelt_module = gm\n",
        "if gdelt_module and hasattr(gdelt_module, \"GCS_BUCKET_NAME\"):\n",
        "    BUCKET_NAME = getattr(gdelt_module, \"GCS_BUCKET_NAME\")\n",
        "else:\n",
        "    BUCKET_NAME = os.environ.get(\"GCS_BUCKET_NAME\", \"gdelt_raw_3_years\")\n",
        "if gdelt_module and hasattr(gdelt_module, \"GCS_PROCESSED_PATH\"):\n",
        "    PROCESSED_PREFIX = getattr(gdelt_module, \"GCS_PROCESSED_PATH\")\n",
        "else:\n",
        "    PROCESSED_PREFIX = os.environ.get(\"GCS_PROCESSED_PATH\", \"processed_data/\")\n",
        "bucket = client.bucket(BUCKET_NAME)\n",
        "blobs = list(client.list_blobs(BUCKET_NAME, prefix=PROCESSED_PREFIX))\n",
        "final_blobs = [b for b in blobs if b.name.startswith(f\"{PROCESSED_PREFIX}final_aligned_data_\") and b.name.endswith(\".json.gz\")]\n",
        "final_blobs_sorted = sorted(final_blobs, key=lambda b: b.name, reverse=True)\n",
        "if len(final_blobs_sorted)==0:\n",
        "    raise SystemExit(\"No final_aligned_data_*.json.gz found under the processed prefix\")\n",
        "latest_blob = final_blobs_sorted[0]\n",
        "local_download_path = \"/tmp/latest_final_aligned_data.json.gz\"\n",
        "with open(local_download_path, \"wb\") as f:\n",
        "    f.write(latest_blob.download_as_bytes())"
      ],
      "metadata": {
        "id": "XaZWM8XTYs7j"
      },
      "execution_count": 4,
      "outputs": []
    },
    {
      "cell_type": "markdown",
      "source": [
        "# Forming Graph"
      ],
      "metadata": {
        "id": "wyfaKsH_ZPWj"
      }
    },
    {
      "cell_type": "code",
      "source": [
        "import os\n",
        "\n",
        "if os.path.exists(local_download_path):\n",
        "    file_size = os.path.getsize(local_download_path) / (1024*1024)\n",
        "    print(f\"File downloaded: {local_download_path}\")\n",
        "    print(f\"Size: {file_size:.2f} MB\")\n",
        "\n",
        "else:\n",
        "    print(\"File NOT found locally\")\n",
        "\n",
        "print(f\"Downloaded from GCS: {latest_blob.name}\")\n",
        "print(f\"Bucket: {BUCKET_NAME}\")\n",
        "print(f\"Last modified: {latest_blob.updated}\")\n",
        "\n",
        "with gzip.open(local_download_path, \"rt\", encoding=\"utf-8\") as f:\n",
        "    sample = f.read(500)\n",
        "    print(f\"Data preview:\\n{sample[:200]}...\")"
      ],
      "metadata": {
        "colab": {
          "base_uri": "https://localhost:8080/"
        },
        "id": "L4tTv_JeHPeD",
        "outputId": "0e4736bf-c3b7-45da-86fb-abfb04f7b66a"
      },
      "execution_count": 5,
      "outputs": [
        {
          "output_type": "stream",
          "name": "stdout",
          "text": [
            "File downloaded: /tmp/latest_final_aligned_data.json.gz\n",
            "Size: 2.37 MB\n",
            "Downloaded from GCS: processed_data/final_aligned_data_20250908.json.gz\n",
            "Bucket: gdelt_raw_3_years\n",
            "Last modified: 2025-09-08 01:30:57.993000+00:00\n",
            "Data preview:\n",
            "[{\"date\": \"20220825\", \"country\": \"US\", \"event_count\": 2301, \"avg_sentiment\": -0.023938528465884453, \"unique_sources\": 728, \"wti_price\": 93.33, \"brent_price\": 98.81, \"theme_energy\": 45, \"theme_conflict...\n"
          ]
        }
      ]
    },
    {
      "cell_type": "code",
      "source": [
        "with gzip.open(local_download_path, \"rt\", encoding=\"utf-8\") as f:\n",
        "    raw = f.read()\n",
        "records = json.loads(raw)\n",
        "df = pd.DataFrame.from_records(records)\n",
        "df[\"date\"] = pd.to_datetime(df[\"date\"])\n",
        "df = df.sort_values(\"date\").reset_index(drop=True)\n",
        "df.shape\n",
        "\n",
        "for column in df.columns:\n",
        "    print(f\"Column: {column}\")\n",
        "    print(df[column])\n",
        "    print(\"-\" * 30)"
      ],
      "metadata": {
        "id": "AseuuqqNYuqr",
        "colab": {
          "base_uri": "https://localhost:8080/"
        },
        "outputId": "be1aa10f-1fa4-4d35-d89a-a97b3d4631da"
      },
      "execution_count": 21,
      "outputs": [
        {
          "output_type": "stream",
          "name": "stdout",
          "text": [
            "Column: date\n",
            "0        2022-08-25\n",
            "1        2022-08-25\n",
            "2        2022-08-25\n",
            "3        2022-08-25\n",
            "4        2022-08-25\n",
            "            ...    \n",
            "143396   2025-08-25\n",
            "143397   2025-08-25\n",
            "143398   2025-08-25\n",
            "143399   2025-08-25\n",
            "143400   2025-08-25\n",
            "Name: date, Length: 143401, dtype: datetime64[ns]\n",
            "------------------------------\n",
            "Column: country\n",
            "0         US\n",
            "1         LU\n",
            "2         NU\n",
            "3         ID\n",
            "4         DO\n",
            "          ..\n",
            "143396    MV\n",
            "143397    LY\n",
            "143398    MU\n",
            "143399    BC\n",
            "143400    GI\n",
            "Name: country, Length: 143401, dtype: object\n",
            "------------------------------\n",
            "Column: event_count\n",
            "0         2301\n",
            "1            7\n",
            "2            2\n",
            "3           35\n",
            "4            1\n",
            "          ... \n",
            "143396       6\n",
            "143397       8\n",
            "143398       8\n",
            "143399       3\n",
            "143400       1\n",
            "Name: event_count, Length: 143401, dtype: int64\n",
            "------------------------------\n",
            "Column: avg_sentiment\n",
            "0        -0.023939\n",
            "1        -0.039387\n",
            "2        -0.069690\n",
            "3        -0.038237\n",
            "4         0.000000\n",
            "            ...   \n",
            "143396   -0.031522\n",
            "143397   -0.022810\n",
            "143398   -0.017373\n",
            "143399    0.000000\n",
            "143400    0.000000\n",
            "Name: avg_sentiment, Length: 143401, dtype: float64\n",
            "------------------------------\n",
            "Column: unique_sources\n",
            "0         728\n",
            "1           7\n",
            "2           2\n",
            "3          27\n",
            "4           1\n",
            "         ... \n",
            "143396      5\n",
            "143397      5\n",
            "143398      5\n",
            "143399      2\n",
            "143400      1\n",
            "Name: unique_sources, Length: 143401, dtype: int64\n",
            "------------------------------\n",
            "Column: wti_price\n",
            "0         93.33\n",
            "1         93.33\n",
            "2         93.33\n",
            "3         93.33\n",
            "4         93.33\n",
            "          ...  \n",
            "143396    65.18\n",
            "143397    65.18\n",
            "143398    65.18\n",
            "143399    65.18\n",
            "143400    65.18\n",
            "Name: wti_price, Length: 143401, dtype: float64\n",
            "------------------------------\n",
            "Column: brent_price\n",
            "0         98.81\n",
            "1         98.81\n",
            "2         98.81\n",
            "3         98.81\n",
            "4         98.81\n",
            "          ...  \n",
            "143396      NaN\n",
            "143397      NaN\n",
            "143398      NaN\n",
            "143399      NaN\n",
            "143400      NaN\n",
            "Name: brent_price, Length: 143401, dtype: float64\n",
            "------------------------------\n",
            "Column: theme_energy\n",
            "0         45\n",
            "1          0\n",
            "2          0\n",
            "3          3\n",
            "4          0\n",
            "          ..\n",
            "143396     0\n",
            "143397     2\n",
            "143398     0\n",
            "143399     0\n",
            "143400     0\n",
            "Name: theme_energy, Length: 143401, dtype: int64\n",
            "------------------------------\n",
            "Column: theme_conflict\n",
            "0         321\n",
            "1           3\n",
            "2           4\n",
            "3          13\n",
            "4           3\n",
            "         ... \n",
            "143396      0\n",
            "143397      1\n",
            "143398      1\n",
            "143399      0\n",
            "143400      0\n",
            "Name: theme_conflict, Length: 143401, dtype: int64\n",
            "------------------------------\n",
            "Column: theme_sanctions\n",
            "0         1\n",
            "1         0\n",
            "2         0\n",
            "3         0\n",
            "4         0\n",
            "         ..\n",
            "143396    0\n",
            "143397    0\n",
            "143398    0\n",
            "143399    0\n",
            "143400    0\n",
            "Name: theme_sanctions, Length: 143401, dtype: int64\n",
            "------------------------------\n",
            "Column: theme_trade\n",
            "0         9\n",
            "1         0\n",
            "2         0\n",
            "3         0\n",
            "4         0\n",
            "         ..\n",
            "143396    1\n",
            "143397    0\n",
            "143398    1\n",
            "143399    0\n",
            "143400    0\n",
            "Name: theme_trade, Length: 143401, dtype: int64\n",
            "------------------------------\n",
            "Column: theme_economy\n",
            "0         316\n",
            "1           0\n",
            "2           0\n",
            "3           6\n",
            "4           0\n",
            "         ... \n",
            "143396      3\n",
            "143397      1\n",
            "143398      2\n",
            "143399      0\n",
            "143400      0\n",
            "Name: theme_economy, Length: 143401, dtype: int64\n",
            "------------------------------\n",
            "Column: theme_policy\n",
            "0         625\n",
            "1           3\n",
            "2           0\n",
            "3           6\n",
            "4           0\n",
            "         ... \n",
            "143396      1\n",
            "143397      1\n",
            "143398      0\n",
            "143399      0\n",
            "143400      0\n",
            "Name: theme_policy, Length: 143401, dtype: int64\n",
            "------------------------------\n"
          ]
        }
      ]
    },
    {
      "cell_type": "code",
      "source": [
        "import pycountry\n",
        "def to_iso3(name):\n",
        "    try:\n",
        "        c = pycountry.countries.lookup(name)\n",
        "        return c.alpha_3\n",
        "    except Exception:\n",
        "        s = str(name).upper()\n",
        "        s2 = \"\".join([c for c in s if c.isalpha() or c==\" \"]).strip().replace(\" \", \"_\")\n",
        "        return s2\n",
        "df[\"country_iso3\"] = df[\"country\"].fillna(\"UNKNOWN\").apply(to_iso3)\n",
        "df[\"node_id\"] = df[\"country_iso3\"].astype(str) + \"_\" + df[\"date\"].dt.strftime(\"%Y%m%d\")\n",
        "df.shape"
      ],
      "metadata": {
        "id": "DYBXmOXTYx7t",
        "colab": {
          "base_uri": "https://localhost:8080/"
        },
        "outputId": "9e9d416d-1dc5-4aca-c282-b32a3b9b74f7"
      },
      "execution_count": 23,
      "outputs": [
        {
          "output_type": "execute_result",
          "data": {
            "text/plain": [
              "(143401, 15)"
            ]
          },
          "metadata": {},
          "execution_count": 23
        }
      ]
    },
    {
      "cell_type": "code",
      "source": [
        "price_by_date = df[[\"date\",\"wti_price\"]].drop_duplicates().set_index(\"date\").sort_index()\n",
        "price_by_date[\"wti_price\"] = pd.to_numeric(price_by_date[\"wti_price\"], errors=\"coerce\")\n",
        "price_by_date = price_by_date.sort_index()\n",
        "price_by_date[\"wti_price_next\"] = price_by_date[\"wti_price\"].shift(-1)\n",
        "price_by_date[\"wti_delta_next\"] = price_by_date[\"wti_price_next\"] - price_by_date[\"wti_price\"]\n",
        "price_by_date[\"wti_ret_next\"] = price_by_date[\"wti_delta_next\"] / price_by_date[\"wti_price\"]\n",
        "price_map = price_by_date.to_dict(orient=\"index\")\n",
        "def attach_targets(row):\n",
        "    pdx = row[\"date\"]\n",
        "    v = price_map.get(pdx)\n",
        "    if v is None:\n",
        "        return pd.Series([np.nan,np.nan])\n",
        "    return pd.Series([v.get(\"wti_delta_next\"), v.get(\"wti_ret_next\")])\n",
        "df[[\"wti_delta_next\",\"wti_ret_next\"]] = df.apply(attach_targets, axis=1)\n",
        "\n",
        "for column in df.columns:\n",
        "    print(f\"Column: {column}\")\n",
        "    print(df[column])\n",
        "    print(\"-\" * 30)"
      ],
      "metadata": {
        "id": "qFVQHJNdYyka",
        "colab": {
          "base_uri": "https://localhost:8080/"
        },
        "outputId": "2e47cd25-1ac5-45b4-b78e-ca26ea3efb71"
      },
      "execution_count": 24,
      "outputs": [
        {
          "output_type": "stream",
          "name": "stdout",
          "text": [
            "Column: date\n",
            "0        2022-08-25\n",
            "1        2022-08-25\n",
            "2        2022-08-25\n",
            "3        2022-08-25\n",
            "4        2022-08-25\n",
            "            ...    \n",
            "143396   2025-08-25\n",
            "143397   2025-08-25\n",
            "143398   2025-08-25\n",
            "143399   2025-08-25\n",
            "143400   2025-08-25\n",
            "Name: date, Length: 143401, dtype: datetime64[ns]\n",
            "------------------------------\n",
            "Column: country\n",
            "0         US\n",
            "1         LU\n",
            "2         NU\n",
            "3         ID\n",
            "4         DO\n",
            "          ..\n",
            "143396    MV\n",
            "143397    LY\n",
            "143398    MU\n",
            "143399    BC\n",
            "143400    GI\n",
            "Name: country, Length: 143401, dtype: object\n",
            "------------------------------\n",
            "Column: event_count\n",
            "0         2301\n",
            "1            7\n",
            "2            2\n",
            "3           35\n",
            "4            1\n",
            "          ... \n",
            "143396       6\n",
            "143397       8\n",
            "143398       8\n",
            "143399       3\n",
            "143400       1\n",
            "Name: event_count, Length: 143401, dtype: int64\n",
            "------------------------------\n",
            "Column: avg_sentiment\n",
            "0        -0.023939\n",
            "1        -0.039387\n",
            "2        -0.069690\n",
            "3        -0.038237\n",
            "4         0.000000\n",
            "            ...   \n",
            "143396   -0.031522\n",
            "143397   -0.022810\n",
            "143398   -0.017373\n",
            "143399    0.000000\n",
            "143400    0.000000\n",
            "Name: avg_sentiment, Length: 143401, dtype: float64\n",
            "------------------------------\n",
            "Column: unique_sources\n",
            "0         728\n",
            "1           7\n",
            "2           2\n",
            "3          27\n",
            "4           1\n",
            "         ... \n",
            "143396      5\n",
            "143397      5\n",
            "143398      5\n",
            "143399      2\n",
            "143400      1\n",
            "Name: unique_sources, Length: 143401, dtype: int64\n",
            "------------------------------\n",
            "Column: wti_price\n",
            "0         93.33\n",
            "1         93.33\n",
            "2         93.33\n",
            "3         93.33\n",
            "4         93.33\n",
            "          ...  \n",
            "143396    65.18\n",
            "143397    65.18\n",
            "143398    65.18\n",
            "143399    65.18\n",
            "143400    65.18\n",
            "Name: wti_price, Length: 143401, dtype: float64\n",
            "------------------------------\n",
            "Column: brent_price\n",
            "0         98.81\n",
            "1         98.81\n",
            "2         98.81\n",
            "3         98.81\n",
            "4         98.81\n",
            "          ...  \n",
            "143396      NaN\n",
            "143397      NaN\n",
            "143398      NaN\n",
            "143399      NaN\n",
            "143400      NaN\n",
            "Name: brent_price, Length: 143401, dtype: float64\n",
            "------------------------------\n",
            "Column: theme_energy\n",
            "0         45\n",
            "1          0\n",
            "2          0\n",
            "3          3\n",
            "4          0\n",
            "          ..\n",
            "143396     0\n",
            "143397     2\n",
            "143398     0\n",
            "143399     0\n",
            "143400     0\n",
            "Name: theme_energy, Length: 143401, dtype: int64\n",
            "------------------------------\n",
            "Column: theme_conflict\n",
            "0         321\n",
            "1           3\n",
            "2           4\n",
            "3          13\n",
            "4           3\n",
            "         ... \n",
            "143396      0\n",
            "143397      1\n",
            "143398      1\n",
            "143399      0\n",
            "143400      0\n",
            "Name: theme_conflict, Length: 143401, dtype: int64\n",
            "------------------------------\n",
            "Column: theme_sanctions\n",
            "0         1\n",
            "1         0\n",
            "2         0\n",
            "3         0\n",
            "4         0\n",
            "         ..\n",
            "143396    0\n",
            "143397    0\n",
            "143398    0\n",
            "143399    0\n",
            "143400    0\n",
            "Name: theme_sanctions, Length: 143401, dtype: int64\n",
            "------------------------------\n",
            "Column: theme_trade\n",
            "0         9\n",
            "1         0\n",
            "2         0\n",
            "3         0\n",
            "4         0\n",
            "         ..\n",
            "143396    1\n",
            "143397    0\n",
            "143398    1\n",
            "143399    0\n",
            "143400    0\n",
            "Name: theme_trade, Length: 143401, dtype: int64\n",
            "------------------------------\n",
            "Column: theme_economy\n",
            "0         316\n",
            "1           0\n",
            "2           0\n",
            "3           6\n",
            "4           0\n",
            "         ... \n",
            "143396      3\n",
            "143397      1\n",
            "143398      2\n",
            "143399      0\n",
            "143400      0\n",
            "Name: theme_economy, Length: 143401, dtype: int64\n",
            "------------------------------\n",
            "Column: theme_policy\n",
            "0         625\n",
            "1           3\n",
            "2           0\n",
            "3           6\n",
            "4           0\n",
            "         ... \n",
            "143396      1\n",
            "143397      1\n",
            "143398      0\n",
            "143399      0\n",
            "143400      0\n",
            "Name: theme_policy, Length: 143401, dtype: int64\n",
            "------------------------------\n",
            "Column: country_iso3\n",
            "0         USA\n",
            "1         LUX\n",
            "2         NIU\n",
            "3         IDN\n",
            "4         DOM\n",
            "         ... \n",
            "143396    MDV\n",
            "143397    LBY\n",
            "143398    MUS\n",
            "143399     BC\n",
            "143400    GIB\n",
            "Name: country_iso3, Length: 143401, dtype: object\n",
            "------------------------------\n",
            "Column: node_id\n",
            "0         USA_20220825\n",
            "1         LUX_20220825\n",
            "2         NIU_20220825\n",
            "3         IDN_20220825\n",
            "4         DOM_20220825\n",
            "              ...     \n",
            "143396    MDV_20250825\n",
            "143397    LBY_20250825\n",
            "143398    MUS_20250825\n",
            "143399     BC_20250825\n",
            "143400    GIB_20250825\n",
            "Name: node_id, Length: 143401, dtype: object\n",
            "------------------------------\n",
            "Column: wti_delta_next\n",
            "0         0.3\n",
            "1         0.3\n",
            "2         0.3\n",
            "3         0.3\n",
            "4         0.3\n",
            "         ... \n",
            "143396    NaN\n",
            "143397    NaN\n",
            "143398    NaN\n",
            "143399    NaN\n",
            "143400    NaN\n",
            "Name: wti_delta_next, Length: 143401, dtype: float64\n",
            "------------------------------\n",
            "Column: wti_ret_next\n",
            "0         0.003214\n",
            "1         0.003214\n",
            "2         0.003214\n",
            "3         0.003214\n",
            "4         0.003214\n",
            "            ...   \n",
            "143396         NaN\n",
            "143397         NaN\n",
            "143398         NaN\n",
            "143399         NaN\n",
            "143400         NaN\n",
            "Name: wti_ret_next, Length: 143401, dtype: float64\n",
            "------------------------------\n"
          ]
        }
      ]
    },
    {
      "cell_type": "code",
      "source": [
        "feature_cols = [c for c in df.columns if c not in [\"country\",\"date\",\"node_id\",\"country_iso3\",\"wti_delta_next\",\"wti_ret_next\"]]\n",
        "feature_cols = [c for c in feature_cols if df[c].dtype != \"object\" or c.startswith(\"theme_\")]\n",
        "node_features = df[[\"node_id\",\"country\",\"country_iso3\",\"date\",\"wti_price\",\"brent_price\",\"wti_delta_next\",\"wti_ret_next\"] + [c for c in df.columns if c in feature_cols]]\n",
        "node_features = node_features.fillna(0)"
      ],
      "metadata": {
        "id": "cZL1fJFZY0Li"
      },
      "execution_count": 9,
      "outputs": []
    },
    {
      "cell_type": "code",
      "source": [
        "opec_members = [\"Venezuela\",\"Saudi Arabia\",\"Iran\",\"Iraq\",\"Kuwait\",\"UAE\",\"Qatar\",\"Algeria\",\"Angola\",\"Libya\",\"Nigeria\",\"Ecuador\",\"Gabon\",\"Republic of the Congo\",\"Equatorial Guinea\"]\n",
        "iso_map = {}\n",
        "for name in opec_members:\n",
        "    try:\n",
        "        iso_map[name] = pycountry.countries.lookup(name).alpha_3\n",
        "    except Exception:\n",
        "        iso_map[name] = name.upper().replace(\" \",\"_\")\n",
        "opec_iso = list(iso_map.values())\n",
        "from itertools import combinations\n",
        "static_edges = []\n",
        "for a,b in combinations(opec_iso,2):\n",
        "    static_edges.append({\"source\":a,\"target\":b,\"edge_type\":\"opec_member\"})\n",
        "static_edges_df = pd.DataFrame(static_edges)"
      ],
      "metadata": {
        "id": "mN4YlVMFY2Hv"
      },
      "execution_count": 10,
      "outputs": []
    },
    {
      "cell_type": "code",
      "source": [
        "dyn_edges_df = pd.DataFrame(columns=[\"source\",\"target\",\"edge_type\",\"timestamp\",\"date\"])\n",
        "potential_actor_cols = [c for c in df.columns if \"actor\" in c.lower() or \"actor1\" in c.lower() or \"actor2\" in c.lower()]\n",
        "if len(potential_actor_cols)>0:\n",
        "    actors = []\n",
        "    for idx,row in df.iterrows():\n",
        "        for k in potential_actor_cols:\n",
        "            v = row.get(k)\n",
        "        if row.get(\"actor1\") and row.get(\"actor2\"):\n",
        "            s = str(row.get(\"actor1\"))\n",
        "            t = str(row.get(\"actor2\"))\n",
        "            dyn_edges_df.loc[len(dyn_edges_df)] = [s,t,\"gdelt_event\",row.get(\"date\"),row.get(\"date\")]\n"
      ],
      "metadata": {
        "id": "ccoFJtmnY4gH"
      },
      "execution_count": 11,
      "outputs": []
    },
    {
      "cell_type": "code",
      "source": [
        "out_dir_local = \"/tmp/graph_export\"\n",
        "os.makedirs(out_dir_local, exist_ok=True)\n",
        "nodes_out = os.path.join(out_dir_local, \"nodes.parquet\")\n",
        "static_edges_out = os.path.join(out_dir_local, \"edges_static.parquet\")\n",
        "dyn_edges_out = os.path.join(out_dir_local, \"edges_dynamic.parquet\")\n",
        "node_features.to_parquet(nodes_out, index=False)\n",
        "static_edges_df.to_parquet(static_edges_out, index=False)\n",
        "dyn_edges_df.to_parquet(dyn_edges_out, index=False)\n"
      ],
      "metadata": {
        "id": "HYnQXhhiY4SS",
        "colab": {
          "base_uri": "https://localhost:8080/",
          "height": 418
        },
        "outputId": "5b605243-4d31-41c6-c221-0b7b0d7b2f4f"
      },
      "execution_count": 12,
      "outputs": [
        {
          "output_type": "error",
          "ename": "ValueError",
          "evalue": "Duplicate column names found: ['node_id', 'country', 'country_iso3', 'date', 'wti_price', 'brent_price', 'wti_delta_next', 'wti_ret_next', 'event_count', 'avg_sentiment', 'unique_sources', 'wti_price', 'brent_price', 'theme_energy', 'theme_conflict', 'theme_sanctions', 'theme_trade', 'theme_economy', 'theme_policy']",
          "traceback": [
            "\u001b[0;31m---------------------------------------------------------------------------\u001b[0m",
            "\u001b[0;31mValueError\u001b[0m                                Traceback (most recent call last)",
            "\u001b[0;32m/tmp/ipython-input-1001479869.py\u001b[0m in \u001b[0;36m<cell line: 0>\u001b[0;34m()\u001b[0m\n\u001b[1;32m      4\u001b[0m \u001b[0mstatic_edges_out\u001b[0m \u001b[0;34m=\u001b[0m \u001b[0mos\u001b[0m\u001b[0;34m.\u001b[0m\u001b[0mpath\u001b[0m\u001b[0;34m.\u001b[0m\u001b[0mjoin\u001b[0m\u001b[0;34m(\u001b[0m\u001b[0mout_dir_local\u001b[0m\u001b[0;34m,\u001b[0m \u001b[0;34m\"edges_static.parquet\"\u001b[0m\u001b[0;34m)\u001b[0m\u001b[0;34m\u001b[0m\u001b[0;34m\u001b[0m\u001b[0m\n\u001b[1;32m      5\u001b[0m \u001b[0mdyn_edges_out\u001b[0m \u001b[0;34m=\u001b[0m \u001b[0mos\u001b[0m\u001b[0;34m.\u001b[0m\u001b[0mpath\u001b[0m\u001b[0;34m.\u001b[0m\u001b[0mjoin\u001b[0m\u001b[0;34m(\u001b[0m\u001b[0mout_dir_local\u001b[0m\u001b[0;34m,\u001b[0m \u001b[0;34m\"edges_dynamic.parquet\"\u001b[0m\u001b[0;34m)\u001b[0m\u001b[0;34m\u001b[0m\u001b[0;34m\u001b[0m\u001b[0m\n\u001b[0;32m----> 6\u001b[0;31m \u001b[0mnode_features\u001b[0m\u001b[0;34m.\u001b[0m\u001b[0mto_parquet\u001b[0m\u001b[0;34m(\u001b[0m\u001b[0mnodes_out\u001b[0m\u001b[0;34m,\u001b[0m \u001b[0mindex\u001b[0m\u001b[0;34m=\u001b[0m\u001b[0;32mFalse\u001b[0m\u001b[0;34m)\u001b[0m\u001b[0;34m\u001b[0m\u001b[0;34m\u001b[0m\u001b[0m\n\u001b[0m\u001b[1;32m      7\u001b[0m \u001b[0mstatic_edges_df\u001b[0m\u001b[0;34m.\u001b[0m\u001b[0mto_parquet\u001b[0m\u001b[0;34m(\u001b[0m\u001b[0mstatic_edges_out\u001b[0m\u001b[0;34m,\u001b[0m \u001b[0mindex\u001b[0m\u001b[0;34m=\u001b[0m\u001b[0;32mFalse\u001b[0m\u001b[0;34m)\u001b[0m\u001b[0;34m\u001b[0m\u001b[0;34m\u001b[0m\u001b[0m\n\u001b[1;32m      8\u001b[0m \u001b[0mdyn_edges_df\u001b[0m\u001b[0;34m.\u001b[0m\u001b[0mto_parquet\u001b[0m\u001b[0;34m(\u001b[0m\u001b[0mdyn_edges_out\u001b[0m\u001b[0;34m,\u001b[0m \u001b[0mindex\u001b[0m\u001b[0;34m=\u001b[0m\u001b[0;32mFalse\u001b[0m\u001b[0;34m)\u001b[0m\u001b[0;34m\u001b[0m\u001b[0;34m\u001b[0m\u001b[0m\n",
            "\u001b[0;32m/usr/local/lib/python3.12/dist-packages/pandas/util/_decorators.py\u001b[0m in \u001b[0;36mwrapper\u001b[0;34m(*args, **kwargs)\u001b[0m\n\u001b[1;32m    331\u001b[0m                     \u001b[0mstacklevel\u001b[0m\u001b[0;34m=\u001b[0m\u001b[0mfind_stack_level\u001b[0m\u001b[0;34m(\u001b[0m\u001b[0;34m)\u001b[0m\u001b[0;34m,\u001b[0m\u001b[0;34m\u001b[0m\u001b[0;34m\u001b[0m\u001b[0m\n\u001b[1;32m    332\u001b[0m                 )\n\u001b[0;32m--> 333\u001b[0;31m             \u001b[0;32mreturn\u001b[0m \u001b[0mfunc\u001b[0m\u001b[0;34m(\u001b[0m\u001b[0;34m*\u001b[0m\u001b[0margs\u001b[0m\u001b[0;34m,\u001b[0m \u001b[0;34m**\u001b[0m\u001b[0mkwargs\u001b[0m\u001b[0;34m)\u001b[0m\u001b[0;34m\u001b[0m\u001b[0;34m\u001b[0m\u001b[0m\n\u001b[0m\u001b[1;32m    334\u001b[0m \u001b[0;34m\u001b[0m\u001b[0m\n\u001b[1;32m    335\u001b[0m         \u001b[0;31m# error: \"Callable[[VarArg(Any), KwArg(Any)], Any]\" has no\u001b[0m\u001b[0;34m\u001b[0m\u001b[0;34m\u001b[0m\u001b[0m\n",
            "\u001b[0;32m/usr/local/lib/python3.12/dist-packages/pandas/core/frame.py\u001b[0m in \u001b[0;36mto_parquet\u001b[0;34m(self, path, engine, compression, index, partition_cols, storage_options, **kwargs)\u001b[0m\n\u001b[1;32m   3111\u001b[0m         \u001b[0;32mfrom\u001b[0m \u001b[0mpandas\u001b[0m\u001b[0;34m.\u001b[0m\u001b[0mio\u001b[0m\u001b[0;34m.\u001b[0m\u001b[0mparquet\u001b[0m \u001b[0;32mimport\u001b[0m \u001b[0mto_parquet\u001b[0m\u001b[0;34m\u001b[0m\u001b[0;34m\u001b[0m\u001b[0m\n\u001b[1;32m   3112\u001b[0m \u001b[0;34m\u001b[0m\u001b[0m\n\u001b[0;32m-> 3113\u001b[0;31m         return to_parquet(\n\u001b[0m\u001b[1;32m   3114\u001b[0m             \u001b[0mself\u001b[0m\u001b[0;34m,\u001b[0m\u001b[0;34m\u001b[0m\u001b[0;34m\u001b[0m\u001b[0m\n\u001b[1;32m   3115\u001b[0m             \u001b[0mpath\u001b[0m\u001b[0;34m,\u001b[0m\u001b[0;34m\u001b[0m\u001b[0;34m\u001b[0m\u001b[0m\n",
            "\u001b[0;32m/usr/local/lib/python3.12/dist-packages/pandas/io/parquet.py\u001b[0m in \u001b[0;36mto_parquet\u001b[0;34m(df, path, engine, compression, index, storage_options, partition_cols, filesystem, **kwargs)\u001b[0m\n\u001b[1;32m    478\u001b[0m     \u001b[0mpath_or_buf\u001b[0m\u001b[0;34m:\u001b[0m \u001b[0mFilePath\u001b[0m \u001b[0;34m|\u001b[0m \u001b[0mWriteBuffer\u001b[0m\u001b[0;34m[\u001b[0m\u001b[0mbytes\u001b[0m\u001b[0;34m]\u001b[0m \u001b[0;34m=\u001b[0m \u001b[0mio\u001b[0m\u001b[0;34m.\u001b[0m\u001b[0mBytesIO\u001b[0m\u001b[0;34m(\u001b[0m\u001b[0;34m)\u001b[0m \u001b[0;32mif\u001b[0m \u001b[0mpath\u001b[0m \u001b[0;32mis\u001b[0m \u001b[0;32mNone\u001b[0m \u001b[0;32melse\u001b[0m \u001b[0mpath\u001b[0m\u001b[0;34m\u001b[0m\u001b[0;34m\u001b[0m\u001b[0m\n\u001b[1;32m    479\u001b[0m \u001b[0;34m\u001b[0m\u001b[0m\n\u001b[0;32m--> 480\u001b[0;31m     impl.write(\n\u001b[0m\u001b[1;32m    481\u001b[0m         \u001b[0mdf\u001b[0m\u001b[0;34m,\u001b[0m\u001b[0;34m\u001b[0m\u001b[0;34m\u001b[0m\u001b[0m\n\u001b[1;32m    482\u001b[0m         \u001b[0mpath_or_buf\u001b[0m\u001b[0;34m,\u001b[0m\u001b[0;34m\u001b[0m\u001b[0;34m\u001b[0m\u001b[0m\n",
            "\u001b[0;32m/usr/local/lib/python3.12/dist-packages/pandas/io/parquet.py\u001b[0m in \u001b[0;36mwrite\u001b[0;34m(self, df, path, compression, index, storage_options, partition_cols, filesystem, **kwargs)\u001b[0m\n\u001b[1;32m    188\u001b[0m             \u001b[0mfrom_pandas_kwargs\u001b[0m\u001b[0;34m[\u001b[0m\u001b[0;34m\"preserve_index\"\u001b[0m\u001b[0;34m]\u001b[0m \u001b[0;34m=\u001b[0m \u001b[0mindex\u001b[0m\u001b[0;34m\u001b[0m\u001b[0;34m\u001b[0m\u001b[0m\n\u001b[1;32m    189\u001b[0m \u001b[0;34m\u001b[0m\u001b[0m\n\u001b[0;32m--> 190\u001b[0;31m         \u001b[0mtable\u001b[0m \u001b[0;34m=\u001b[0m \u001b[0mself\u001b[0m\u001b[0;34m.\u001b[0m\u001b[0mapi\u001b[0m\u001b[0;34m.\u001b[0m\u001b[0mTable\u001b[0m\u001b[0;34m.\u001b[0m\u001b[0mfrom_pandas\u001b[0m\u001b[0;34m(\u001b[0m\u001b[0mdf\u001b[0m\u001b[0;34m,\u001b[0m \u001b[0;34m**\u001b[0m\u001b[0mfrom_pandas_kwargs\u001b[0m\u001b[0;34m)\u001b[0m\u001b[0;34m\u001b[0m\u001b[0;34m\u001b[0m\u001b[0m\n\u001b[0m\u001b[1;32m    191\u001b[0m \u001b[0;34m\u001b[0m\u001b[0m\n\u001b[1;32m    192\u001b[0m         \u001b[0;32mif\u001b[0m \u001b[0mdf\u001b[0m\u001b[0;34m.\u001b[0m\u001b[0mattrs\u001b[0m\u001b[0;34m:\u001b[0m\u001b[0;34m\u001b[0m\u001b[0;34m\u001b[0m\u001b[0m\n",
            "\u001b[0;32m/usr/local/lib/python3.12/dist-packages/pyarrow/table.pxi\u001b[0m in \u001b[0;36mpyarrow.lib.Table.from_pandas\u001b[0;34m()\u001b[0m\n",
            "\u001b[0;32m/usr/local/lib/python3.12/dist-packages/pyarrow/pandas_compat.py\u001b[0m in \u001b[0;36mdataframe_to_arrays\u001b[0;34m(df, schema, preserve_index, nthreads, columns, safe)\u001b[0m\n\u001b[1;32m    579\u001b[0m      \u001b[0mindex_columns\u001b[0m\u001b[0;34m,\u001b[0m\u001b[0;34m\u001b[0m\u001b[0;34m\u001b[0m\u001b[0m\n\u001b[1;32m    580\u001b[0m      \u001b[0mcolumns_to_convert\u001b[0m\u001b[0;34m,\u001b[0m\u001b[0;34m\u001b[0m\u001b[0;34m\u001b[0m\u001b[0m\n\u001b[0;32m--> 581\u001b[0;31m      \u001b[0mconvert_fields\u001b[0m\u001b[0;34m)\u001b[0m \u001b[0;34m=\u001b[0m \u001b[0m_get_columns_to_convert\u001b[0m\u001b[0;34m(\u001b[0m\u001b[0mdf\u001b[0m\u001b[0;34m,\u001b[0m \u001b[0mschema\u001b[0m\u001b[0;34m,\u001b[0m \u001b[0mpreserve_index\u001b[0m\u001b[0;34m,\u001b[0m\u001b[0;34m\u001b[0m\u001b[0;34m\u001b[0m\u001b[0m\n\u001b[0m\u001b[1;32m    582\u001b[0m                                                columns)\n\u001b[1;32m    583\u001b[0m \u001b[0;34m\u001b[0m\u001b[0m\n",
            "\u001b[0;32m/usr/local/lib/python3.12/dist-packages/pyarrow/pandas_compat.py\u001b[0m in \u001b[0;36m_get_columns_to_convert\u001b[0;34m(df, schema, preserve_index, columns)\u001b[0m\n\u001b[1;32m    361\u001b[0m \u001b[0;34m\u001b[0m\u001b[0m\n\u001b[1;32m    362\u001b[0m     \u001b[0;32mif\u001b[0m \u001b[0;32mnot\u001b[0m \u001b[0mdf\u001b[0m\u001b[0;34m.\u001b[0m\u001b[0mcolumns\u001b[0m\u001b[0;34m.\u001b[0m\u001b[0mis_unique\u001b[0m\u001b[0;34m:\u001b[0m\u001b[0;34m\u001b[0m\u001b[0;34m\u001b[0m\u001b[0m\n\u001b[0;32m--> 363\u001b[0;31m         raise ValueError(\n\u001b[0m\u001b[1;32m    364\u001b[0m             \u001b[0;34m'Duplicate column names found: {}'\u001b[0m\u001b[0;34m.\u001b[0m\u001b[0mformat\u001b[0m\u001b[0;34m(\u001b[0m\u001b[0mlist\u001b[0m\u001b[0;34m(\u001b[0m\u001b[0mdf\u001b[0m\u001b[0;34m.\u001b[0m\u001b[0mcolumns\u001b[0m\u001b[0;34m)\u001b[0m\u001b[0;34m)\u001b[0m\u001b[0;34m\u001b[0m\u001b[0;34m\u001b[0m\u001b[0m\n\u001b[1;32m    365\u001b[0m         )\n",
            "\u001b[0;31mValueError\u001b[0m: Duplicate column names found: ['node_id', 'country', 'country_iso3', 'date', 'wti_price', 'brent_price', 'wti_delta_next', 'wti_ret_next', 'event_count', 'avg_sentiment', 'unique_sources', 'wti_price', 'brent_price', 'theme_energy', 'theme_conflict', 'theme_sanctions', 'theme_trade', 'theme_economy', 'theme_policy']"
          ]
        }
      ]
    },
    {
      "cell_type": "code",
      "source": [
        "gcs_prefix = PROCESSED_PREFIX + \"graph_dataset/\"\n",
        "for p in [nodes_out, static_edges_out, dyn_edges_out]:\n",
        "    bn = os.path.basename(p)\n",
        "    blob = bucket.blob(f\"{gcs_prefix}{bn}\")\n",
        "    with open(p,\"rb\") as f:\n",
        "        blob.upload_from_file(f)\n",
        "meta = {\"nodes\":nodes_out,\"edges_static\":static_edges_out,\"edges_dynamic\":dyn_edges_out,\"uploaded_at\":datetime.utcnow().isoformat()}\n",
        "meta_blob = bucket.blob(f\"{gcs_prefix}metadata.json\")\n",
        "meta_blob.upload_from_string(json.dumps(meta), content_type=\"application/json\")"
      ],
      "metadata": {
        "id": "W4YQp6wWY4Ee",
        "colab": {
          "base_uri": "https://localhost:8080/",
          "height": 253
        },
        "outputId": "33b59d19-c497-4e53-fb39-6bf146bbe7ff"
      },
      "execution_count": 13,
      "outputs": [
        {
          "output_type": "error",
          "ename": "FileNotFoundError",
          "evalue": "[Errno 2] No such file or directory: '/tmp/graph_export/nodes.parquet'",
          "traceback": [
            "\u001b[0;31m---------------------------------------------------------------------------\u001b[0m",
            "\u001b[0;31mFileNotFoundError\u001b[0m                         Traceback (most recent call last)",
            "\u001b[0;32m/tmp/ipython-input-3841086253.py\u001b[0m in \u001b[0;36m<cell line: 0>\u001b[0;34m()\u001b[0m\n\u001b[1;32m      3\u001b[0m     \u001b[0mbn\u001b[0m \u001b[0;34m=\u001b[0m \u001b[0mos\u001b[0m\u001b[0;34m.\u001b[0m\u001b[0mpath\u001b[0m\u001b[0;34m.\u001b[0m\u001b[0mbasename\u001b[0m\u001b[0;34m(\u001b[0m\u001b[0mp\u001b[0m\u001b[0;34m)\u001b[0m\u001b[0;34m\u001b[0m\u001b[0;34m\u001b[0m\u001b[0m\n\u001b[1;32m      4\u001b[0m     \u001b[0mblob\u001b[0m \u001b[0;34m=\u001b[0m \u001b[0mbucket\u001b[0m\u001b[0;34m.\u001b[0m\u001b[0mblob\u001b[0m\u001b[0;34m(\u001b[0m\u001b[0;34mf\"{gcs_prefix}{bn}\"\u001b[0m\u001b[0;34m)\u001b[0m\u001b[0;34m\u001b[0m\u001b[0;34m\u001b[0m\u001b[0m\n\u001b[0;32m----> 5\u001b[0;31m     \u001b[0;32mwith\u001b[0m \u001b[0mopen\u001b[0m\u001b[0;34m(\u001b[0m\u001b[0mp\u001b[0m\u001b[0;34m,\u001b[0m\u001b[0;34m\"rb\"\u001b[0m\u001b[0;34m)\u001b[0m \u001b[0;32mas\u001b[0m \u001b[0mf\u001b[0m\u001b[0;34m:\u001b[0m\u001b[0;34m\u001b[0m\u001b[0;34m\u001b[0m\u001b[0m\n\u001b[0m\u001b[1;32m      6\u001b[0m         \u001b[0mblob\u001b[0m\u001b[0;34m.\u001b[0m\u001b[0mupload_from_file\u001b[0m\u001b[0;34m(\u001b[0m\u001b[0mf\u001b[0m\u001b[0;34m)\u001b[0m\u001b[0;34m\u001b[0m\u001b[0;34m\u001b[0m\u001b[0m\n\u001b[1;32m      7\u001b[0m \u001b[0mmeta\u001b[0m \u001b[0;34m=\u001b[0m \u001b[0;34m{\u001b[0m\u001b[0;34m\"nodes\"\u001b[0m\u001b[0;34m:\u001b[0m\u001b[0mnodes_out\u001b[0m\u001b[0;34m,\u001b[0m\u001b[0;34m\"edges_static\"\u001b[0m\u001b[0;34m:\u001b[0m\u001b[0mstatic_edges_out\u001b[0m\u001b[0;34m,\u001b[0m\u001b[0;34m\"edges_dynamic\"\u001b[0m\u001b[0;34m:\u001b[0m\u001b[0mdyn_edges_out\u001b[0m\u001b[0;34m,\u001b[0m\u001b[0;34m\"uploaded_at\"\u001b[0m\u001b[0;34m:\u001b[0m\u001b[0mdatetime\u001b[0m\u001b[0;34m.\u001b[0m\u001b[0mutcnow\u001b[0m\u001b[0;34m(\u001b[0m\u001b[0;34m)\u001b[0m\u001b[0;34m.\u001b[0m\u001b[0misoformat\u001b[0m\u001b[0;34m(\u001b[0m\u001b[0;34m)\u001b[0m\u001b[0;34m}\u001b[0m\u001b[0;34m\u001b[0m\u001b[0;34m\u001b[0m\u001b[0m\n",
            "\u001b[0;31mFileNotFoundError\u001b[0m: [Errno 2] No such file or directory: '/tmp/graph_export/nodes.parquet'"
          ]
        }
      ]
    },
    {
      "cell_type": "code",
      "source": [
        "df = []\n"
      ],
      "metadata": {
        "id": "-4ODDbLGhSr-"
      },
      "execution_count": 23,
      "outputs": []
    },
    {
      "cell_type": "code",
      "source": [
        "unique_dates = sorted(df[\"date\"].dt.date.unique())\n",
        "for d in tqdm(unique_dates):\n",
        "    sub = node_features[node_features[\"date\"].dt.date==d].copy()\n",
        "    if sub.shape[0]==0:\n",
        "        continue\n",
        "    fn = f\"node_features_{d.strftime('%Y%m%d')}.parquet\"\n",
        "    localp = os.path.join(out_dir_local,fn)\n",
        "    sub.to_parquet(localp, index=False)\n",
        "    blob = bucket.blob(f\"{gcs_prefix}{fn}\")\n",
        "    with open(localp,\"rb\") as f:\n",
        "        blob.upload_from_file(f)"
      ],
      "metadata": {
        "id": "J9RNhXaqY-7y"
      },
      "execution_count": null,
      "outputs": []
    },
    {
      "cell_type": "code",
      "source": [
        "print(\"done\")\n",
        "print(\"bucket\",BUCKET_NAME)\n",
        "print(\"processed prefix\",PROCESSED_PREFIX)\n",
        "print(\"latest aligned blob\", latest_blob.name)\n",
        "print(\"graph files uploaded to\", PROCESSED_PREFIX + \"graph_dataset/\")"
      ],
      "metadata": {
        "id": "ruFEh4nmY-5c"
      },
      "execution_count": null,
      "outputs": []
    }
  ]
}